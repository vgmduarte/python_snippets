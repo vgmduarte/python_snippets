{
 "cells": [
  {
   "cell_type": "code",
   "execution_count": 1,
   "metadata": {},
   "outputs": [
    {
     "name": "stdout",
     "output_type": "stream",
     "text": [
      "/home/vgmduarte/code/miniconda3/envs/python_snippets/bin/python\n",
      "# packages in environment at /home/vgmduarte/code/miniconda3/envs/python_snippets:\n",
      "#\n",
      "# Name                    Version                   Build  Channel\n",
      "mypackage                 0.1.dev0                  dev_0    <develop>\n"
     ]
    }
   ],
   "source": [
    "!which python\n",
    "!conda list mypackage"
   ]
  },
  {
   "cell_type": "code",
   "execution_count": 2,
   "metadata": {},
   "outputs": [],
   "source": [
    "# %load snippets/simple.py\n",
    "'''Simple notebook setup.'''\n",
    "%reload_ext autoreload\n",
    "%autoreload 2\n",
    "\n",
    "import numpy as np\n",
    "import mypackage\n",
    "from mypackage import mymodule\n",
    "from mypackage.mymodule import myfunc"
   ]
  },
  {
   "cell_type": "code",
   "execution_count": 3,
   "metadata": {},
   "outputs": [
    {
     "name": "stdout",
     "output_type": "stream",
     "text": [
      "2 is a placed arg\n",
      "(3, 4, 5) is a tuple\n",
      "{'a': 2, 'b': 3, 'c': 5} is a dictionary\n"
     ]
    },
    {
     "data": {
      "text/plain": [
       "array([3, 4, 5])"
      ]
     },
     "execution_count": 3,
     "metadata": {},
     "output_type": "execute_result"
    }
   ],
   "source": [
    "mypackage.mymodule.myfunc(2, 3,4,5, a=2, b=3, c=5)"
   ]
  },
  {
   "cell_type": "code",
   "execution_count": 4,
   "metadata": {},
   "outputs": [
    {
     "name": "stdout",
     "output_type": "stream",
     "text": [
      "2 is a placed arg\n",
      "(3, 4, 5) is a tuple\n",
      "{'a': 2, 'b': 3, 'c': 5} is a dictionary\n"
     ]
    },
    {
     "data": {
      "text/plain": [
       "array([3, 4, 5])"
      ]
     },
     "execution_count": 4,
     "metadata": {},
     "output_type": "execute_result"
    }
   ],
   "source": [
    "mymodule.myfunc(2, 3,4,5, a=2, b=3, c=5)"
   ]
  },
  {
   "cell_type": "code",
   "execution_count": 5,
   "metadata": {},
   "outputs": [
    {
     "name": "stdout",
     "output_type": "stream",
     "text": [
      "2 is a placed arg\n",
      "(3, 4, 5) is a tuple\n",
      "{'a': 2, 'b': 3, 'c': 5} is a dictionary\n"
     ]
    },
    {
     "data": {
      "text/plain": [
       "array([3, 4, 5])"
      ]
     },
     "execution_count": 5,
     "metadata": {},
     "output_type": "execute_result"
    }
   ],
   "source": [
    "myfunc(2, 3,4,5, a=2, b=3, c=5)"
   ]
  }
 ],
 "metadata": {
  "kernelspec": {
   "display_name": "Python 3",
   "language": "python",
   "name": "python3"
  },
  "language_info": {
   "codemirror_mode": {
    "name": "ipython",
    "version": 3
   },
   "file_extension": ".py",
   "mimetype": "text/x-python",
   "name": "python",
   "nbconvert_exporter": "python",
   "pygments_lexer": "ipython3",
   "version": "3.8.5"
  }
 },
 "nbformat": 4,
 "nbformat_minor": 4
}
